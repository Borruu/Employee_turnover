{
 "cells": [
  {
   "cell_type": "code",
   "execution_count": 1,
   "id": "d8a165d2",
   "metadata": {},
   "outputs": [],
   "source": [
    "import pandas as pd\n",
    "import matplotlib.pyplot as plt\n",
    "import numpy as np\n",
    "import datetime\n",
    "import scipy.stats as st"
   ]
  },
  {
   "cell_type": "code",
   "execution_count": 2,
   "id": "87dd0d90",
   "metadata": {},
   "outputs": [
    {
     "data": {
      "text/html": [
       "<div>\n",
       "<style scoped>\n",
       "    .dataframe tbody tr th:only-of-type {\n",
       "        vertical-align: middle;\n",
       "    }\n",
       "\n",
       "    .dataframe tbody tr th {\n",
       "        vertical-align: top;\n",
       "    }\n",
       "\n",
       "    .dataframe thead th {\n",
       "        text-align: right;\n",
       "    }\n",
       "</style>\n",
       "<table border=\"1\" class=\"dataframe\">\n",
       "  <thead>\n",
       "    <tr style=\"text-align: right;\">\n",
       "      <th></th>\n",
       "      <th>MMM-YY</th>\n",
       "      <th>Emp_ID</th>\n",
       "      <th>Age</th>\n",
       "      <th>Gender</th>\n",
       "      <th>City</th>\n",
       "      <th>Education_Level</th>\n",
       "      <th>Salary</th>\n",
       "      <th>Dateofjoining</th>\n",
       "      <th>LastWorkingDate</th>\n",
       "      <th>Joining Designation</th>\n",
       "      <th>Designation</th>\n",
       "      <th>Total Business Value</th>\n",
       "      <th>Quarterly Rating</th>\n",
       "    </tr>\n",
       "  </thead>\n",
       "  <tbody>\n",
       "    <tr>\n",
       "      <th>0</th>\n",
       "      <td>2016-01-01</td>\n",
       "      <td>1</td>\n",
       "      <td>28</td>\n",
       "      <td>Male</td>\n",
       "      <td>C23</td>\n",
       "      <td>Master</td>\n",
       "      <td>57387</td>\n",
       "      <td>2015-12-24</td>\n",
       "      <td>NaN</td>\n",
       "      <td>1</td>\n",
       "      <td>1</td>\n",
       "      <td>2381060</td>\n",
       "      <td>2</td>\n",
       "    </tr>\n",
       "    <tr>\n",
       "      <th>1</th>\n",
       "      <td>2016-02-01</td>\n",
       "      <td>1</td>\n",
       "      <td>28</td>\n",
       "      <td>Male</td>\n",
       "      <td>C23</td>\n",
       "      <td>Master</td>\n",
       "      <td>57387</td>\n",
       "      <td>2015-12-24</td>\n",
       "      <td>NaN</td>\n",
       "      <td>1</td>\n",
       "      <td>1</td>\n",
       "      <td>-665480</td>\n",
       "      <td>2</td>\n",
       "    </tr>\n",
       "    <tr>\n",
       "      <th>2</th>\n",
       "      <td>2016-03-01</td>\n",
       "      <td>1</td>\n",
       "      <td>28</td>\n",
       "      <td>Male</td>\n",
       "      <td>C23</td>\n",
       "      <td>Master</td>\n",
       "      <td>57387</td>\n",
       "      <td>2015-12-24</td>\n",
       "      <td>2016-03-11</td>\n",
       "      <td>1</td>\n",
       "      <td>1</td>\n",
       "      <td>0</td>\n",
       "      <td>2</td>\n",
       "    </tr>\n",
       "    <tr>\n",
       "      <th>3</th>\n",
       "      <td>2017-11-01</td>\n",
       "      <td>2</td>\n",
       "      <td>31</td>\n",
       "      <td>Male</td>\n",
       "      <td>C7</td>\n",
       "      <td>Master</td>\n",
       "      <td>67016</td>\n",
       "      <td>2017-11-06</td>\n",
       "      <td>NaN</td>\n",
       "      <td>2</td>\n",
       "      <td>2</td>\n",
       "      <td>0</td>\n",
       "      <td>1</td>\n",
       "    </tr>\n",
       "    <tr>\n",
       "      <th>4</th>\n",
       "      <td>2017-12-01</td>\n",
       "      <td>2</td>\n",
       "      <td>31</td>\n",
       "      <td>Male</td>\n",
       "      <td>C7</td>\n",
       "      <td>Master</td>\n",
       "      <td>67016</td>\n",
       "      <td>2017-11-06</td>\n",
       "      <td>NaN</td>\n",
       "      <td>2</td>\n",
       "      <td>2</td>\n",
       "      <td>0</td>\n",
       "      <td>1</td>\n",
       "    </tr>\n",
       "  </tbody>\n",
       "</table>\n",
       "</div>"
      ],
      "text/plain": [
       "       MMM-YY  Emp_ID  Age Gender City Education_Level  Salary Dateofjoining  \\\n",
       "0  2016-01-01       1   28   Male  C23          Master   57387    2015-12-24   \n",
       "1  2016-02-01       1   28   Male  C23          Master   57387    2015-12-24   \n",
       "2  2016-03-01       1   28   Male  C23          Master   57387    2015-12-24   \n",
       "3  2017-11-01       2   31   Male   C7          Master   67016    2017-11-06   \n",
       "4  2017-12-01       2   31   Male   C7          Master   67016    2017-11-06   \n",
       "\n",
       "  LastWorkingDate  Joining Designation  Designation  Total Business Value  \\\n",
       "0             NaN                    1            1               2381060   \n",
       "1             NaN                    1            1               -665480   \n",
       "2      2016-03-11                    1            1                     0   \n",
       "3             NaN                    2            2                     0   \n",
       "4             NaN                    2            2                     0   \n",
       "\n",
       "   Quarterly Rating  \n",
       "0                 2  \n",
       "1                 2  \n",
       "2                 2  \n",
       "3                 1  \n",
       "4                 1  "
      ]
     },
     "execution_count": 2,
     "metadata": {},
     "output_type": "execute_result"
    }
   ],
   "source": [
    "path = 'EmployeeAttrition.csv'\n",
    "df = pd.read_csv(path)\n",
    "df.head()"
   ]
  },
  {
   "cell_type": "code",
   "execution_count": 3,
   "id": "2ab2a0e8",
   "metadata": {},
   "outputs": [
    {
     "data": {
      "text/html": [
       "<div>\n",
       "<style scoped>\n",
       "    .dataframe tbody tr th:only-of-type {\n",
       "        vertical-align: middle;\n",
       "    }\n",
       "\n",
       "    .dataframe tbody tr th {\n",
       "        vertical-align: top;\n",
       "    }\n",
       "\n",
       "    .dataframe thead th {\n",
       "        text-align: right;\n",
       "    }\n",
       "</style>\n",
       "<table border=\"1\" class=\"dataframe\">\n",
       "  <thead>\n",
       "    <tr style=\"text-align: right;\">\n",
       "      <th></th>\n",
       "      <th>Emp_ID</th>\n",
       "      <th>Quarterly Rating</th>\n",
       "    </tr>\n",
       "  </thead>\n",
       "  <tbody>\n",
       "    <tr>\n",
       "      <th>0</th>\n",
       "      <td>2788</td>\n",
       "      <td>2</td>\n",
       "    </tr>\n",
       "    <tr>\n",
       "      <th>1</th>\n",
       "      <td>2784</td>\n",
       "      <td>4</td>\n",
       "    </tr>\n",
       "    <tr>\n",
       "      <th>2</th>\n",
       "      <td>2781</td>\n",
       "      <td>4</td>\n",
       "    </tr>\n",
       "    <tr>\n",
       "      <th>3</th>\n",
       "      <td>2778</td>\n",
       "      <td>1</td>\n",
       "    </tr>\n",
       "    <tr>\n",
       "      <th>4</th>\n",
       "      <td>2775</td>\n",
       "      <td>1</td>\n",
       "    </tr>\n",
       "    <tr>\n",
       "      <th>...</th>\n",
       "      <td>...</td>\n",
       "      <td>...</td>\n",
       "    </tr>\n",
       "    <tr>\n",
       "      <th>2376</th>\n",
       "      <td>136</td>\n",
       "      <td>1</td>\n",
       "    </tr>\n",
       "    <tr>\n",
       "      <th>2377</th>\n",
       "      <td>105</td>\n",
       "      <td>1</td>\n",
       "    </tr>\n",
       "    <tr>\n",
       "      <th>2378</th>\n",
       "      <td>86</td>\n",
       "      <td>1</td>\n",
       "    </tr>\n",
       "    <tr>\n",
       "      <th>2379</th>\n",
       "      <td>70</td>\n",
       "      <td>1</td>\n",
       "    </tr>\n",
       "    <tr>\n",
       "      <th>2380</th>\n",
       "      <td>58</td>\n",
       "      <td>1</td>\n",
       "    </tr>\n",
       "  </tbody>\n",
       "</table>\n",
       "<p>2381 rows × 2 columns</p>\n",
       "</div>"
      ],
      "text/plain": [
       "      Emp_ID  Quarterly Rating\n",
       "0       2788                 2\n",
       "1       2784                 4\n",
       "2       2781                 4\n",
       "3       2778                 1\n",
       "4       2775                 1\n",
       "...      ...               ...\n",
       "2376     136                 1\n",
       "2377     105                 1\n",
       "2378      86                 1\n",
       "2379      70                 1\n",
       "2380      58                 1\n",
       "\n",
       "[2381 rows x 2 columns]"
      ]
     },
     "execution_count": 3,
     "metadata": {},
     "output_type": "execute_result"
    }
   ],
   "source": [
    "\n",
    "df_wk = df.sort_values([\"MMM-YY\",'Emp_ID'], ascending = False)\n",
    "df_mostRecent = df_wk.drop_duplicates(subset = 'Emp_ID', keep = 'first').reset_index(drop = True)\n",
    "df_mostRecent\n",
    "rating = df_mostRecent[['Emp_ID','Quarterly Rating']]\n",
    "rating"
   ]
  },
  {
   "cell_type": "code",
   "execution_count": 4,
   "id": "86a57885",
   "metadata": {},
   "outputs": [
    {
     "data": {
      "text/html": [
       "<div>\n",
       "<style scoped>\n",
       "    .dataframe tbody tr th:only-of-type {\n",
       "        vertical-align: middle;\n",
       "    }\n",
       "\n",
       "    .dataframe tbody tr th {\n",
       "        vertical-align: top;\n",
       "    }\n",
       "\n",
       "    .dataframe thead th {\n",
       "        text-align: right;\n",
       "    }\n",
       "</style>\n",
       "<table border=\"1\" class=\"dataframe\">\n",
       "  <thead>\n",
       "    <tr style=\"text-align: right;\">\n",
       "      <th></th>\n",
       "      <th>MMM-YY</th>\n",
       "      <th>Emp_ID</th>\n",
       "      <th>Age</th>\n",
       "      <th>Gender</th>\n",
       "      <th>City</th>\n",
       "      <th>Education_Level</th>\n",
       "      <th>Salary</th>\n",
       "      <th>Dateofjoining</th>\n",
       "      <th>LastWorkingDate</th>\n",
       "      <th>Joining Designation</th>\n",
       "      <th>Designation</th>\n",
       "      <th>Total Business Value</th>\n",
       "      <th>Quarterly Rating</th>\n",
       "    </tr>\n",
       "  </thead>\n",
       "  <tbody>\n",
       "    <tr>\n",
       "      <th>0</th>\n",
       "      <td>2016-01-01</td>\n",
       "      <td>1</td>\n",
       "      <td>28</td>\n",
       "      <td>Male</td>\n",
       "      <td>C23</td>\n",
       "      <td>Master</td>\n",
       "      <td>57387</td>\n",
       "      <td>2015-12-24</td>\n",
       "      <td>NaN</td>\n",
       "      <td>1</td>\n",
       "      <td>1</td>\n",
       "      <td>2381060</td>\n",
       "      <td>2</td>\n",
       "    </tr>\n",
       "    <tr>\n",
       "      <th>10</th>\n",
       "      <td>2016-01-01</td>\n",
       "      <td>5</td>\n",
       "      <td>29</td>\n",
       "      <td>Male</td>\n",
       "      <td>C9</td>\n",
       "      <td>College</td>\n",
       "      <td>46368</td>\n",
       "      <td>2016-01-09</td>\n",
       "      <td>NaN</td>\n",
       "      <td>1</td>\n",
       "      <td>1</td>\n",
       "      <td>0</td>\n",
       "      <td>1</td>\n",
       "    </tr>\n",
       "    <tr>\n",
       "      <th>28</th>\n",
       "      <td>2016-01-01</td>\n",
       "      <td>13</td>\n",
       "      <td>29</td>\n",
       "      <td>Male</td>\n",
       "      <td>C19</td>\n",
       "      <td>Master</td>\n",
       "      <td>119227</td>\n",
       "      <td>2012-05-28</td>\n",
       "      <td>NaN</td>\n",
       "      <td>1</td>\n",
       "      <td>4</td>\n",
       "      <td>250000</td>\n",
       "      <td>1</td>\n",
       "    </tr>\n",
       "    <tr>\n",
       "      <th>54</th>\n",
       "      <td>2016-01-01</td>\n",
       "      <td>16</td>\n",
       "      <td>30</td>\n",
       "      <td>Female</td>\n",
       "      <td>C23</td>\n",
       "      <td>College</td>\n",
       "      <td>52963</td>\n",
       "      <td>2015-11-30</td>\n",
       "      <td>NaN</td>\n",
       "      <td>2</td>\n",
       "      <td>2</td>\n",
       "      <td>346800</td>\n",
       "      <td>1</td>\n",
       "    </tr>\n",
       "    <tr>\n",
       "      <th>56</th>\n",
       "      <td>2016-01-01</td>\n",
       "      <td>17</td>\n",
       "      <td>42</td>\n",
       "      <td>Male</td>\n",
       "      <td>C20</td>\n",
       "      <td>Master</td>\n",
       "      <td>51099</td>\n",
       "      <td>2015-03-06</td>\n",
       "      <td>NaN</td>\n",
       "      <td>1</td>\n",
       "      <td>1</td>\n",
       "      <td>100000</td>\n",
       "      <td>2</td>\n",
       "    </tr>\n",
       "  </tbody>\n",
       "</table>\n",
       "</div>"
      ],
      "text/plain": [
       "        MMM-YY  Emp_ID  Age  Gender City Education_Level  Salary  \\\n",
       "0   2016-01-01       1   28    Male  C23          Master   57387   \n",
       "10  2016-01-01       5   29    Male   C9         College   46368   \n",
       "28  2016-01-01      13   29    Male  C19          Master  119227   \n",
       "54  2016-01-01      16   30  Female  C23         College   52963   \n",
       "56  2016-01-01      17   42    Male  C20          Master   51099   \n",
       "\n",
       "   Dateofjoining LastWorkingDate  Joining Designation  Designation  \\\n",
       "0     2015-12-24             NaN                    1            1   \n",
       "10    2016-01-09             NaN                    1            1   \n",
       "28    2012-05-28             NaN                    1            4   \n",
       "54    2015-11-30             NaN                    2            2   \n",
       "56    2015-03-06             NaN                    1            1   \n",
       "\n",
       "    Total Business Value  Quarterly Rating  \n",
       "0                2381060                 2  \n",
       "10                     0                 1  \n",
       "28                250000                 1  \n",
       "54                346800                 1  \n",
       "56                100000                 2  "
      ]
     },
     "execution_count": 4,
     "metadata": {},
     "output_type": "execute_result"
    }
   ],
   "source": [
    "# plot histogram of designationcounts at specific times - get shape of the company\n",
    "\n",
    "Jan16_df = df.loc[df['MMM-YY']=='2016-01-01',:]\n",
    "Jan16_df.head()"
   ]
  },
  {
   "cell_type": "code",
   "execution_count": 5,
   "id": "8f67763c",
   "metadata": {},
   "outputs": [
    {
     "data": {
      "image/png": "[encoded data removed]",
      "text/plain": [
       "<Figure size 432x288 with 1 Axes>"
      ]
     },
     "metadata": {
      "needs_background": "light"
     },
     "output_type": "display_data"
    },
    {
     "data": {
      "text/plain": [
       "1    401\n",
       "2    353\n",
       "3    155\n",
       "4     92\n",
       "5     21\n",
       "Name: Designation, dtype: int64"
      ]
     },
     "execution_count": 5,
     "metadata": {},
     "output_type": "execute_result"
    }
   ],
   "source": [
    "# plot shape of company Jan 2016\n",
    "d1_count = []\n",
    "d2_count =[]\n",
    "d3_count = []\n",
    "d4_count = []\n",
    "d5_count = []\n",
    "x=[1,2,3,4,5]\n",
    "y= Jan16_df['Designation'].value_counts()\n",
    "plt.bar(x,y)\n",
    "plt.show()\n",
    "y.transpose()"
   ]
  },
  {
   "cell_type": "code",
   "execution_count": 6,
   "id": "3fdbbd0f",
   "metadata": {},
   "outputs": [
    {
     "data": {
      "image/png": "[encoded data removed]",
      "text/plain": [
       "<Figure size 432x288 with 1 Axes>"
      ]
     },
     "metadata": {
      "needs_background": "light"
     },
     "output_type": "display_data"
    },
    {
     "data": {
      "text/plain": [
       "1    309\n",
       "2    305\n",
       "3    142\n",
       "4     94\n",
       "5     20\n",
       "Name: Designation, dtype: int64"
      ]
     },
     "execution_count": 6,
     "metadata": {},
     "output_type": "execute_result"
    }
   ],
   "source": [
    "# plot shape of company Mar 2016\n",
    "Mar16_df = df.loc[df['MMM-YY']=='2016-03-01',:]\n",
    "# Mar16_df.head()\n",
    "x=[1,2,3,4,5]\n",
    "y= Mar16_df['Designation'].value_counts()\n",
    "plt.bar(x,y)\n",
    "plt.show()\n",
    "y.transpose()"
   ]
  },
  {
   "cell_type": "code",
   "execution_count": 7,
   "id": "e7f47261",
   "metadata": {},
   "outputs": [
    {
     "data": {
      "image/png": "[encoded data removed]",
      "text/plain": [
       "<Figure size 432x288 with 1 Axes>"
      ]
     },
     "metadata": {
      "needs_background": "light"
     },
     "output_type": "display_data"
    },
    {
     "data": {
      "text/plain": [
       "2    266\n",
       "1    211\n",
       "3    149\n",
       "4    113\n",
       "5     18\n",
       "Name: Designation, dtype: int64"
      ]
     },
     "execution_count": 7,
     "metadata": {},
     "output_type": "execute_result"
    }
   ],
   "source": [
    "# plot shape of company July 2016\n",
    "Jul16_df = df.loc[df['MMM-YY']=='2016-07-01',:]\n",
    "# Jul16_df.head()\n",
    "x=[2,1,3,4,5]\n",
    "y= Jul16_df['Designation'].value_counts()\n",
    "plt.bar(x,y)\n",
    "plt.show()\n",
    "y.transpose()"
   ]
  },
  {
   "cell_type": "code",
   "execution_count": 8,
   "id": "18bf3a92",
   "metadata": {},
   "outputs": [
    {
     "data": {
      "image/png": "[encoded data removed]",
      "text/plain": [
       "<Figure size 432x288 with 1 Axes>"
      ]
     },
     "metadata": {
      "needs_background": "light"
     },
     "output_type": "display_data"
    },
    {
     "data": {
      "text/plain": [
       "2    265\n",
       "1    221\n",
       "3    185\n",
       "4    100\n",
       "5     10\n",
       "Name: Designation, dtype: int64"
      ]
     },
     "execution_count": 8,
     "metadata": {},
     "output_type": "execute_result"
    }
   ],
   "source": [
    "# plot shape of company Nov 2016\n",
    "Nov16_df = df.loc[df['MMM-YY']=='2016-11-01',:]\n",
    "# Nov16_df.head()\n",
    "x=[2,1,3,4,5]\n",
    "y= Nov16_df['Designation'].value_counts()\n",
    "plt.bar(x,y)\n",
    "plt.show()\n",
    "y.transpose()"
   ]
  },
  {
   "cell_type": "code",
   "execution_count": 9,
   "id": "3c560133",
   "metadata": {},
   "outputs": [
    {
     "data": {
      "image/png": "[encoded data removed]",
      "text/plain": [
       "<Figure size 432x288 with 1 Axes>"
      ]
     },
     "metadata": {
      "needs_background": "light"
     },
     "output_type": "display_data"
    },
    {
     "data": {
      "text/plain": [
       "2    265\n",
       "1    213\n",
       "3    190\n",
       "4     84\n",
       "5      9\n",
       "Name: Designation, dtype: int64"
      ]
     },
     "execution_count": 9,
     "metadata": {},
     "output_type": "execute_result"
    }
   ],
   "source": [
    "# plot shape of company Feb 2017\n",
    "Feb17_df = df.loc[df['MMM-YY']=='2017-02-01',:]\n",
    "# Feb17_df.head()\n",
    "x=[2,1,3,4,5]\n",
    "y= Feb17_df['Designation'].value_counts()\n",
    "plt.bar(x,y)\n",
    "plt.show()\n",
    "y.transpose()"
   ]
  },
  {
   "cell_type": "code",
   "execution_count": 10,
   "id": "5e0fc5ec",
   "metadata": {},
   "outputs": [
    {
     "data": {
      "image/png": "[encoded data removed]",
      "text/plain": [
       "<Figure size 432x288 with 1 Axes>"
      ]
     },
     "metadata": {
      "needs_background": "light"
     },
     "output_type": "display_data"
    },
    {
     "data": {
      "text/plain": [
       "3    304\n",
       "2    281\n",
       "1    156\n",
       "4     68\n",
       "5     10\n",
       "Name: Designation, dtype: int64"
      ]
     },
     "execution_count": 10,
     "metadata": {},
     "output_type": "execute_result"
    }
   ],
   "source": [
    "# plot shape of company Dec 2017\n",
    "Dec17_df = df.loc[df['MMM-YY']=='2017-12-01',:]\n",
    "# Dec17_df.head()\n",
    "x=[3,2,1,4,5]\n",
    "y= Dec17_df['Designation'].value_counts()\n",
    "plt.bar(x,y)\n",
    "plt.show()\n",
    "y"
   ]
  },
  {
   "cell_type": "code",
   "execution_count": 11,
   "id": "ca1704f7",
   "metadata": {},
   "outputs": [
    {
     "name": "stdout",
     "output_type": "stream",
     "text": [
      "2    6627\n",
      "1    5202\n",
      "3    4826\n",
      "4    2144\n",
      "5     305\n",
      "Name: Designation, dtype: int64\n"
     ]
    },
    {
     "data": {
      "image/png": "[encoded data removed]",
      "text/plain": [
       "<Figure size 432x288 with 1 Axes>"
      ]
     },
     "metadata": {},
     "output_type": "display_data"
    }
   ],
   "source": [
    "# Findings: 'shape' of company does change. Get % values for presentation\n",
    "y=df['Designation'].value_counts()\n",
    "print(y)\n",
    "x=[2,1,3,4,5]\n",
    "# plt.bar(x,y)\n",
    "plt.pie(y,labels=x,autopct=\"%1.1f%%\")\n",
    "plt.show()"
   ]
  },
  {
   "cell_type": "code",
   "execution_count": 12,
   "id": "a27c63e8",
   "metadata": {},
   "outputs": [
    {
     "data": {
      "text/plain": [
       "2    600\n",
       "1    596\n",
       "3    337\n",
       "4     70\n",
       "5     13\n",
       "Name: Current_Designation, dtype: int64"
      ]
     },
     "execution_count": 12,
     "metadata": {},
     "output_type": "execute_result"
    }
   ],
   "source": [
    "# Does the spread of designations leaving match the shape of the company?\n",
    "path2 = 'EA_new_df'\n",
    "new_df = pd.read_csv(path2)\n",
    "leavers = new_df.loc[new_df['Left_Company']==True,'Current_Designation']\n",
    "leavers.value_counts()\n"
   ]
  },
  {
   "cell_type": "code",
   "execution_count": 13,
   "id": "ecf20582",
   "metadata": {},
   "outputs": [
    {
     "data": {
      "image/png": "[encoded data removed]",
      "text/plain": [
       "<Figure size 432x288 with 1 Axes>"
      ]
     },
     "metadata": {},
     "output_type": "display_data"
    },
    {
     "data": {
      "text/plain": [
       "<Figure size 432x288 with 0 Axes>"
      ]
     },
     "metadata": {},
     "output_type": "display_data"
    }
   ],
   "source": [
    "# plot leavers\n",
    "\n",
    "z = leavers.value_counts()\n",
    "labels = [2,1,3,4,5]\n",
    "\n",
    "plt.pie(z,labels=labels,autopct=\"%1.1f%%\")\n",
    "plt.axis(\"equal\")\n",
    "plt.show()\n",
    "plt.savefig('../02_Presentation/Leavers_Designation.png')"
   ]
  },
  {
   "cell_type": "code",
   "execution_count": 14,
   "id": "ada486b1",
   "metadata": {},
   "outputs": [
    {
     "data": {
      "image/png": "[encoded data removed]",
      "text/plain": [
       "<Figure size 432x288 with 1 Axes>"
      ]
     },
     "metadata": {},
     "output_type": "display_data"
    }
   ],
   "source": [
    "# Plot whole company and/or stayers\n",
    "alldes = new_df['Current_Designation']\n",
    "stayers = new_df.loc[new_df['Left_Company']==False,'Current_Designation']\n",
    "y = stayers.value_counts()\n",
    "y\n",
    "labels = [3,2,1,4,5]\n",
    "plt.pie(y,labels=labels,autopct=\"%1.1f%%\")\n",
    "plt.axis(\"equal\")\n",
    "plt.show()"
   ]
  },
  {
   "cell_type": "code",
   "execution_count": 15,
   "id": "4807ed20",
   "metadata": {},
   "outputs": [
    {
     "name": "stdout",
     "output_type": "stream",
     "text": [
      "3    286\n",
      "2    255\n",
      "1    145\n",
      "4     68\n",
      "5     11\n",
      "Name: Current_Designation, dtype: int64\n",
      "_____\n",
      "2    600\n",
      "1    596\n",
      "3    337\n",
      "4     70\n",
      "5     13\n",
      "Name: Current_Designation, dtype: int64\n"
     ]
    }
   ],
   "source": [
    "# x = designation\n",
    "# y = stayers.value_counts()\n",
    "# z = leavers.value_counts()\n",
    "# reset index to create new column for designation.\n",
    "\n",
    "print(y)\n",
    "print('_____')\n",
    "print(z)\n",
    "\n"
   ]
  },
  {
   "cell_type": "code",
   "execution_count": 22,
   "id": "47d69cf0",
   "metadata": {},
   "outputs": [
    {
     "data": {
      "image/png": "[encoded data removed]",
      "text/plain": [
       "<Figure size 432x288 with 1 Axes>"
      ]
     },
     "metadata": {
      "needs_background": "light"
     },
     "output_type": "display_data"
    }
   ],
   "source": [
    "gr_new = new_df.groupby(['Current_Designation','Left_Company'])\\\n",
    ".agg(Employee_count = ('Emp_ID', 'count'))\n",
    "gr_new.plot(kind='bar')\n",
    "plt.show()\n",
    "# plt.bar(gr_new['Current_Designation'],gr_new[])"
   ]
  },
  {
   "cell_type": "code",
   "execution_count": null,
   "id": "4d4fc042",
   "metadata": {},
   "outputs": [],
   "source": [
    "\n",
    "\n",
    "y = alldes.value_counts()\n",
    "y\n",
    "labels = [2,1,3,4,5]\n",
    "plt.pie(y,labels=labels,autopct=\"%1.1f%%\")\n",
    "plt.axis(\"equal\")\n",
    "plt.show()"
   ]
  },
  {
   "cell_type": "code",
   "execution_count": null,
   "id": "6e02a6d1",
   "metadata": {},
   "outputs": [],
   "source": [
    "# Findings: there is a higher turnover in designation 1 and 2\n",
    "# Clarify %\n",
    "new_starters = new_df.loc[new_df['Start_date']>='2016-01-01',:]\n",
    "new_starters\n",
    "st = new_starters.loc[new_starters['Left_Company']==True,:]\n",
    "stg = st.groupby('Current_Designation')\n",
    "st_tenure = stg['Tenure'].mean()\n",
    "st_tenure\n",
    "# print(new_df.dtypes)\n",
    "# new_df.head()"
   ]
  },
  {
   "cell_type": "code",
   "execution_count": null,
   "id": "19368af3",
   "metadata": {},
   "outputs": [],
   "source": [
    "# show leavers rating at leaving month\n",
    "# same for 6 months prior to leaving if time permits\n",
    "new_df = pd.merge(new_df, rating, on='Emp_ID')\n"
   ]
  },
  {
   "cell_type": "code",
   "execution_count": null,
   "id": "3d4cbdba",
   "metadata": {},
   "outputs": [],
   "source": [
    "fig, ax = plt.subplots()\n",
    "rate_leavers = new_df.loc[new_df['Left_Company']==True,'Quarterly Rating']\n",
    "y = rate_leavers.value_counts()\n",
    "labels = [1,2,3,4]\n",
    "plt.pie(y,labels=labels, autopct=\"%1.1f%%\")\n",
    "plt.axis(\"equal\")\n",
    "plt.savefig('../02_Presentation/Leavers_Rating_Pie.png')\n",
    "plt.show()"
   ]
  },
  {
   "cell_type": "code",
   "execution_count": null,
   "id": "be109a0c",
   "metadata": {},
   "outputs": [],
   "source": [
    "fig, ax = plt.subplots()\n",
    "plt.bar(labels, y)\n",
    "plt.xticks([1,2,3,4])\n",
    "plt.xlabel('Quarterly Rating')\n",
    "plt.ylabel('Number of Employees who left')\n",
    "fig.tight_layout()\n",
    "plt.savefig('../02_Presentation/Leavers_Rating_Bar.png')\n",
    "plt.show()\n",
    "# is there any bias regarding age?\n",
    "# same business value = same salary. "
   ]
  },
  {
   "cell_type": "code",
   "execution_count": null,
   "id": "e758ea12",
   "metadata": {},
   "outputs": [],
   "source": []
  }
 ],
 "metadata": {
  "kernelspec": {
   "display_name": "Python [conda env:PythonData] *",
   "language": "python",
   "name": "conda-env-PythonData-py"
  },
  "language_info": {
   "codemirror_mode": {
    "name": "ipython",
    "version": 3
   },
   "file_extension": ".py",
   "mimetype": "text/x-python",
   "name": "python",
   "nbconvert_exporter": "python",
   "pygments_lexer": "ipython3",
   "version": "3.7.7"
  }
 },
 "nbformat": 4,
 "nbformat_minor": 5
}
