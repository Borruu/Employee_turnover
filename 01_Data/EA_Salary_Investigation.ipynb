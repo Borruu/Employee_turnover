{
 "cells": [
  {
   "cell_type": "code",
   "execution_count": 1,
   "id": "73933393",
   "metadata": {},
   "outputs": [],
   "source": [
    "import pandas as pd\n",
    "import matplotlib.pyplot as plt\n",
    "import numpy as np\n",
    "import datetime\n",
    "import scipy.stats as st\n",
    "# import seaborn as sns"
   ]
  },
  {
   "cell_type": "code",
   "execution_count": 2,
   "id": "bd014c5e",
   "metadata": {},
   "outputs": [
    {
     "name": "stdout",
     "output_type": "stream",
     "text": [
      "Index(['Unnamed: 0', 'MMM-YY', 'Emp_ID', 'Age', 'Gender', 'City',\n",
      "       'Education_Level', 'Salary', 'Dateofjoining', 'LastWorkingDate',\n",
      "       'Joining Designation', 'Designation', 'Total Business Value',\n",
      "       'Quarterly Rating'],\n",
      "      dtype='object')\n"
     ]
    }
   ],
   "source": [
    "path = 'EA_des1_df'\n",
    "d1_df = pd.read_csv(path)\n",
    "print(d1_df.columns)"
   ]
  },
  {
   "cell_type": "code",
   "execution_count": 3,
   "id": "b3e950ce",
   "metadata": {},
   "outputs": [
    {
     "name": "stdout",
     "output_type": "stream",
     "text": [
      "Index(['Unnamed: 0', 'Emp_ID', 'Dateofjoining', 'LastWorkingDate', 'Tenure',\n",
      "       'Left_Company', 'Start_date', 'End_date', 'Current_Designation',\n",
      "       'Joining Designation'],\n",
      "      dtype='object')\n"
     ]
    },
    {
     "data": {
      "text/html": [
       "<div>\n",
       "<style scoped>\n",
       "    .dataframe tbody tr th:only-of-type {\n",
       "        vertical-align: middle;\n",
       "    }\n",
       "\n",
       "    .dataframe tbody tr th {\n",
       "        vertical-align: top;\n",
       "    }\n",
       "\n",
       "    .dataframe thead th {\n",
       "        text-align: right;\n",
       "    }\n",
       "</style>\n",
       "<table border=\"1\" class=\"dataframe\">\n",
       "  <thead>\n",
       "    <tr style=\"text-align: right;\">\n",
       "      <th></th>\n",
       "      <th>Unnamed: 0</th>\n",
       "      <th>MMM-YY</th>\n",
       "      <th>Emp_ID</th>\n",
       "      <th>Age</th>\n",
       "      <th>Gender</th>\n",
       "      <th>City</th>\n",
       "      <th>Education_Level</th>\n",
       "      <th>Salary</th>\n",
       "      <th>Dateofjoining</th>\n",
       "      <th>LastWorkingDate</th>\n",
       "      <th>Joining Designation</th>\n",
       "      <th>Designation</th>\n",
       "      <th>Total Business Value</th>\n",
       "      <th>Quarterly Rating</th>\n",
       "      <th>Tenure</th>\n",
       "    </tr>\n",
       "  </thead>\n",
       "  <tbody>\n",
       "    <tr>\n",
       "      <th>0</th>\n",
       "      <td>0</td>\n",
       "      <td>2016-01-01</td>\n",
       "      <td>1</td>\n",
       "      <td>28</td>\n",
       "      <td>Male</td>\n",
       "      <td>C23</td>\n",
       "      <td>Master</td>\n",
       "      <td>57387</td>\n",
       "      <td>2015-12-24</td>\n",
       "      <td>NaN</td>\n",
       "      <td>1</td>\n",
       "      <td>1</td>\n",
       "      <td>2381060</td>\n",
       "      <td>2</td>\n",
       "      <td>78</td>\n",
       "    </tr>\n",
       "    <tr>\n",
       "      <th>1</th>\n",
       "      <td>1</td>\n",
       "      <td>2016-02-01</td>\n",
       "      <td>1</td>\n",
       "      <td>28</td>\n",
       "      <td>Male</td>\n",
       "      <td>C23</td>\n",
       "      <td>Master</td>\n",
       "      <td>57387</td>\n",
       "      <td>2015-12-24</td>\n",
       "      <td>NaN</td>\n",
       "      <td>1</td>\n",
       "      <td>1</td>\n",
       "      <td>-665480</td>\n",
       "      <td>2</td>\n",
       "      <td>78</td>\n",
       "    </tr>\n",
       "    <tr>\n",
       "      <th>2</th>\n",
       "      <td>2</td>\n",
       "      <td>2016-03-01</td>\n",
       "      <td>1</td>\n",
       "      <td>28</td>\n",
       "      <td>Male</td>\n",
       "      <td>C23</td>\n",
       "      <td>Master</td>\n",
       "      <td>57387</td>\n",
       "      <td>2015-12-24</td>\n",
       "      <td>2016-03-11</td>\n",
       "      <td>1</td>\n",
       "      <td>1</td>\n",
       "      <td>0</td>\n",
       "      <td>2</td>\n",
       "      <td>78</td>\n",
       "    </tr>\n",
       "    <tr>\n",
       "      <th>3</th>\n",
       "      <td>10</td>\n",
       "      <td>2016-01-01</td>\n",
       "      <td>5</td>\n",
       "      <td>29</td>\n",
       "      <td>Male</td>\n",
       "      <td>C9</td>\n",
       "      <td>College</td>\n",
       "      <td>46368</td>\n",
       "      <td>2016-01-09</td>\n",
       "      <td>NaN</td>\n",
       "      <td>1</td>\n",
       "      <td>1</td>\n",
       "      <td>0</td>\n",
       "      <td>1</td>\n",
       "      <td>58</td>\n",
       "    </tr>\n",
       "    <tr>\n",
       "      <th>4</th>\n",
       "      <td>11</td>\n",
       "      <td>2016-02-01</td>\n",
       "      <td>5</td>\n",
       "      <td>29</td>\n",
       "      <td>Male</td>\n",
       "      <td>C9</td>\n",
       "      <td>College</td>\n",
       "      <td>46368</td>\n",
       "      <td>2016-01-09</td>\n",
       "      <td>NaN</td>\n",
       "      <td>1</td>\n",
       "      <td>1</td>\n",
       "      <td>120360</td>\n",
       "      <td>1</td>\n",
       "      <td>58</td>\n",
       "    </tr>\n",
       "  </tbody>\n",
       "</table>\n",
       "</div>"
      ],
      "text/plain": [
       "   Unnamed: 0      MMM-YY  Emp_ID  Age Gender City Education_Level  Salary  \\\n",
       "0           0  2016-01-01       1   28   Male  C23          Master   57387   \n",
       "1           1  2016-02-01       1   28   Male  C23          Master   57387   \n",
       "2           2  2016-03-01       1   28   Male  C23          Master   57387   \n",
       "3          10  2016-01-01       5   29   Male   C9         College   46368   \n",
       "4          11  2016-02-01       5   29   Male   C9         College   46368   \n",
       "\n",
       "  Dateofjoining LastWorkingDate  Joining Designation  Designation  \\\n",
       "0    2015-12-24             NaN                    1            1   \n",
       "1    2015-12-24             NaN                    1            1   \n",
       "2    2015-12-24      2016-03-11                    1            1   \n",
       "3    2016-01-09             NaN                    1            1   \n",
       "4    2016-01-09             NaN                    1            1   \n",
       "\n",
       "   Total Business Value  Quarterly Rating  Tenure  \n",
       "0               2381060                 2      78  \n",
       "1               -665480                 2      78  \n",
       "2                     0                 2      78  \n",
       "3                     0                 1      58  \n",
       "4                120360                 1      58  "
      ]
     },
     "execution_count": 3,
     "metadata": {},
     "output_type": "execute_result"
    }
   ],
   "source": [
    "path2 = 'EA_new_df'\n",
    "new_df = pd.read_csv(path2)\n",
    "print(new_df.columns)\n",
    "tenure_df = new_df[['Emp_ID','Tenure']]\n",
    "tenure_df.head()\n",
    "d1_tenure_df = pd.merge(d1_df,tenure_df, on='Emp_ID', how='left')\n",
    "d1_tenure_df.head()"
   ]
  },
  {
   "cell_type": "code",
   "execution_count": 4,
   "id": "747c2c36",
   "metadata": {},
   "outputs": [
    {
     "name": "stdout",
     "output_type": "stream",
     "text": [
      "751\n"
     ]
    },
    {
     "data": {
      "image/png": "[encoded data removed]",
      "text/plain": [
       "<Figure size 432x288 with 1 Axes>"
      ]
     },
     "metadata": {
      "needs_background": "light"
     },
     "output_type": "display_data"
    }
   ],
   "source": [
    "# get tenure from data_clean csv\n",
    "gr_d1t = d1_tenure_df.groupby('Emp_ID')\n",
    "print(len(gr_d1t))\n",
    "\n",
    "# scatter tenure vs Salary\n",
    "x=gr_d1t['Tenure'].mean()\n",
    "y=gr_d1t['Salary'].mean()\n",
    "plt.scatter(x,y,edgecolors='k')\n",
    "plt.title('Tenure vs. Salary - D1')\n",
    "plt.xlabel('Tenure in Days')\n",
    "plt.ylabel('Salary')\n",
    "plt.show()\n",
    "# FINDINGS: low correlation\n",
    "\n"
   ]
  },
  {
   "cell_type": "code",
   "execution_count": 5,
   "id": "1e1b4da3",
   "metadata": {},
   "outputs": [
    {
     "data": {
      "image/png": "[encoded data removed]",
      "text/plain": [
       "<Figure size 432x288 with 1 Axes>"
      ]
     },
     "metadata": {
      "needs_background": "light"
     },
     "output_type": "display_data"
    }
   ],
   "source": [
    "# get sum business value for each employee\n",
    "pd.options.display.float_format = '{:.2f}'.format\n",
    "\n",
    "bv_sum = gr_d1t['Total Business Value'].sum()\n",
    "\n",
    "# get mean monthly business value for employee\n",
    "bv_avg = gr_d1t['Total Business Value'].mean()\n",
    "\n",
    "# scatter Salary vs Business Value mean\n",
    "plt.scatter(bv_avg,y,facecolors='m',edgecolors='k')\n",
    "plt.ticklabel_format(style='plain')\n",
    "plt.title('Business Value vs. Salary - D1')\n",
    "plt.xlabel('Business Value - monthly average')\n",
    "plt.ylabel('Salary')\n",
    "plt.xticks(rotation=45)\n",
    "plt.show()\n",
    "\n",
    "# FINDINGS: Business value does not explain Salary difference\n",
    "# s value for tenure\n",
    "\n",
    "# hover info emp id? "
   ]
  },
  {
   "cell_type": "code",
   "execution_count": 6,
   "id": "9b75829e",
   "metadata": {},
   "outputs": [
    {
     "data": {
      "image/png": "[encoded data removed]",
      "text/plain": [
       "<Figure size 432x288 with 1 Axes>"
      ]
     },
     "metadata": {
      "needs_background": "light"
     },
     "output_type": "display_data"
    }
   ],
   "source": [
    "# scatter Salary vs Business Value sum \n",
    "plt.scatter(bv_sum,y,facecolors='c',edgecolors='k')\n",
    "plt.ticklabel_format(style='plain')\n",
    "plt.title('Business Value vs. Salary - D1')\n",
    "plt.xlabel('Business Value - sum')\n",
    "plt.xticks(rotation=45)\n",
    "plt.ylabel('Salary')\n",
    "plt.show()\n",
    "# FINDINGS: Slightly more positive correlation (on sight) than previous but still no clear correlation.\n",
    "# 0 values still piled up at all Salary levels"
   ]
  },
  {
   "cell_type": "code",
   "execution_count": 7,
   "id": "f998e89e",
   "metadata": {},
   "outputs": [],
   "source": [
    "# Pinpoint employees 10-15\n",
    "# Top Business Value sum\n",
    "# Top Business Value mean\n",
    "# Top Salary\n",
    "# Longest Tenure\n",
    "\n",
    "\n",
    "top_sum = bv_sum.sort_values(ascending=False)\n",
    "top_monthly = bv_avg.sort_values(ascending=False)\n",
    "long_tenure = x.sort_values(ascending=False)\n",
    "top_sal = y.sort_values(ascending=False)\n",
    "\n",
    "\n",
    "sum_20 = top_sum.head(20)\n",
    "monthly_20 = top_monthly.head(20)\n",
    "long_20 = long_tenure.head(20)\n",
    "sal_20 = top_sal.head(20)\n",
    "\n",
    "top20_df = pd.merge(long_20,sal_20, on='Emp_ID',how='outer')\n",
    "# top20_df"
   ]
  },
  {
   "cell_type": "code",
   "execution_count": 8,
   "id": "57249595",
   "metadata": {},
   "outputs": [],
   "source": [
    "top20_df = pd.merge(top20_df, monthly_20, on='Emp_ID',how='outer')\n",
    "top20_df = top20_df.rename(columns = {'Total Business Value':'Average Monthly Business Value'})"
   ]
  },
  {
   "cell_type": "code",
   "execution_count": 9,
   "id": "08a876bd",
   "metadata": {},
   "outputs": [],
   "source": [
    "top20_df = pd.merge(top20_df, sum_20, on='Emp_ID',how='outer')\n",
    "top20_df = top20_df.reset_index()\n",
    "# top20_df"
   ]
  },
  {
   "cell_type": "code",
   "execution_count": 10,
   "id": "ab632d54",
   "metadata": {},
   "outputs": [
    {
     "data": {
      "text/html": [
       "<div>\n",
       "<style scoped>\n",
       "    .dataframe tbody tr th:only-of-type {\n",
       "        vertical-align: middle;\n",
       "    }\n",
       "\n",
       "    .dataframe tbody tr th {\n",
       "        vertical-align: top;\n",
       "    }\n",
       "\n",
       "    .dataframe thead th {\n",
       "        text-align: right;\n",
       "    }\n",
       "</style>\n",
       "<table border=\"1\" class=\"dataframe\">\n",
       "  <thead>\n",
       "    <tr style=\"text-align: right;\">\n",
       "      <th></th>\n",
       "      <th>Emp_ID</th>\n",
       "      <th>Tenure</th>\n",
       "      <th>Salary</th>\n",
       "      <th>Average Monthly Business Value</th>\n",
       "      <th>Total Business Value</th>\n",
       "    </tr>\n",
       "  </thead>\n",
       "  <tbody>\n",
       "    <tr>\n",
       "      <th>Emp_ID</th>\n",
       "      <td>1.00</td>\n",
       "      <td>0.24</td>\n",
       "      <td>-0.07</td>\n",
       "      <td>-0.12</td>\n",
       "      <td>-0.16</td>\n",
       "    </tr>\n",
       "    <tr>\n",
       "      <th>Tenure</th>\n",
       "      <td>0.24</td>\n",
       "      <td>1.00</td>\n",
       "      <td>nan</td>\n",
       "      <td>nan</td>\n",
       "      <td>nan</td>\n",
       "    </tr>\n",
       "    <tr>\n",
       "      <th>Salary</th>\n",
       "      <td>-0.07</td>\n",
       "      <td>nan</td>\n",
       "      <td>1.00</td>\n",
       "      <td>-1.00</td>\n",
       "      <td>nan</td>\n",
       "    </tr>\n",
       "    <tr>\n",
       "      <th>Average Monthly Business Value</th>\n",
       "      <td>-0.12</td>\n",
       "      <td>nan</td>\n",
       "      <td>-1.00</td>\n",
       "      <td>1.00</td>\n",
       "      <td>0.62</td>\n",
       "    </tr>\n",
       "    <tr>\n",
       "      <th>Total Business Value</th>\n",
       "      <td>-0.16</td>\n",
       "      <td>nan</td>\n",
       "      <td>nan</td>\n",
       "      <td>0.62</td>\n",
       "      <td>1.00</td>\n",
       "    </tr>\n",
       "  </tbody>\n",
       "</table>\n",
       "</div>"
      ],
      "text/plain": [
       "                                Emp_ID  Tenure  Salary  \\\n",
       "Emp_ID                            1.00    0.24   -0.07   \n",
       "Tenure                            0.24    1.00     nan   \n",
       "Salary                           -0.07     nan    1.00   \n",
       "Average Monthly Business Value   -0.12     nan   -1.00   \n",
       "Total Business Value             -0.16     nan     nan   \n",
       "\n",
       "                                Average Monthly Business Value  \\\n",
       "Emp_ID                                                   -0.12   \n",
       "Tenure                                                     nan   \n",
       "Salary                                                   -1.00   \n",
       "Average Monthly Business Value                            1.00   \n",
       "Total Business Value                                      0.62   \n",
       "\n",
       "                                Total Business Value  \n",
       "Emp_ID                                         -0.16  \n",
       "Tenure                                           nan  \n",
       "Salary                                           nan  \n",
       "Average Monthly Business Value                  0.62  \n",
       "Total Business Value                            1.00  "
      ]
     },
     "execution_count": 10,
     "metadata": {},
     "output_type": "execute_result"
    }
   ],
   "source": [
    "top20_matrix = top20_df.corr()\n",
    "top20_matrix"
   ]
  },
  {
   "cell_type": "code",
   "execution_count": 12,
   "id": "4aee5d7d",
   "metadata": {},
   "outputs": [],
   "source": [
    "sum_188 = top_sum.head(188)\n",
    "monthly_188 = top_monthly.head(188)\n",
    "long_188 = long_tenure.head(188)\n",
    "sal_188 = top_sal.head(188)\n",
    "\n",
    "top188_df = pd.merge(long_188, sal_188, on='Emp_ID',how='outer')"
   ]
  },
  {
   "cell_type": "code",
   "execution_count": 13,
   "id": "ec309f96",
   "metadata": {},
   "outputs": [],
   "source": [
    "top188_df = pd.merge(top188_df, monthly_188, on='Emp_ID',how='outer')\n",
    "top188_df = top188_df.rename(columns = {'Total Business Value':'Average Monthly Business Value'})"
   ]
  },
  {
   "cell_type": "code",
   "execution_count": 14,
   "id": "647b0482",
   "metadata": {},
   "outputs": [],
   "source": [
    "top188_df = pd.merge(top188_df, sum_188, on='Emp_ID',how='outer')\n",
    "top188_df = top188_df.reset_index()"
   ]
  },
  {
   "cell_type": "code",
   "execution_count": 15,
   "id": "0f8f89a1",
   "metadata": {},
   "outputs": [
    {
     "data": {
      "text/html": [
       "<div>\n",
       "<style scoped>\n",
       "    .dataframe tbody tr th:only-of-type {\n",
       "        vertical-align: middle;\n",
       "    }\n",
       "\n",
       "    .dataframe tbody tr th {\n",
       "        vertical-align: top;\n",
       "    }\n",
       "\n",
       "    .dataframe thead th {\n",
       "        text-align: right;\n",
       "    }\n",
       "</style>\n",
       "<table border=\"1\" class=\"dataframe\">\n",
       "  <thead>\n",
       "    <tr style=\"text-align: right;\">\n",
       "      <th></th>\n",
       "      <th>Emp_ID</th>\n",
       "      <th>Tenure</th>\n",
       "      <th>Salary</th>\n",
       "      <th>Average Monthly Business Value</th>\n",
       "      <th>Total Business Value</th>\n",
       "    </tr>\n",
       "  </thead>\n",
       "  <tbody>\n",
       "    <tr>\n",
       "      <th>Emp_ID</th>\n",
       "      <td>1.00</td>\n",
       "      <td>0.07</td>\n",
       "      <td>0.00</td>\n",
       "      <td>-0.03</td>\n",
       "      <td>-0.02</td>\n",
       "    </tr>\n",
       "    <tr>\n",
       "      <th>Tenure</th>\n",
       "      <td>0.07</td>\n",
       "      <td>1.00</td>\n",
       "      <td>-0.10</td>\n",
       "      <td>0.02</td>\n",
       "      <td>0.31</td>\n",
       "    </tr>\n",
       "    <tr>\n",
       "      <th>Salary</th>\n",
       "      <td>0.00</td>\n",
       "      <td>-0.10</td>\n",
       "      <td>1.00</td>\n",
       "      <td>-0.04</td>\n",
       "      <td>-0.05</td>\n",
       "    </tr>\n",
       "    <tr>\n",
       "      <th>Average Monthly Business Value</th>\n",
       "      <td>-0.03</td>\n",
       "      <td>0.02</td>\n",
       "      <td>-0.04</td>\n",
       "      <td>1.00</td>\n",
       "      <td>0.76</td>\n",
       "    </tr>\n",
       "    <tr>\n",
       "      <th>Total Business Value</th>\n",
       "      <td>-0.02</td>\n",
       "      <td>0.31</td>\n",
       "      <td>-0.05</td>\n",
       "      <td>0.76</td>\n",
       "      <td>1.00</td>\n",
       "    </tr>\n",
       "  </tbody>\n",
       "</table>\n",
       "</div>"
      ],
      "text/plain": [
       "                                Emp_ID  Tenure  Salary  \\\n",
       "Emp_ID                            1.00    0.07    0.00   \n",
       "Tenure                            0.07    1.00   -0.10   \n",
       "Salary                            0.00   -0.10    1.00   \n",
       "Average Monthly Business Value   -0.03    0.02   -0.04   \n",
       "Total Business Value             -0.02    0.31   -0.05   \n",
       "\n",
       "                                Average Monthly Business Value  \\\n",
       "Emp_ID                                                   -0.03   \n",
       "Tenure                                                    0.02   \n",
       "Salary                                                   -0.04   \n",
       "Average Monthly Business Value                            1.00   \n",
       "Total Business Value                                      0.76   \n",
       "\n",
       "                                Total Business Value  \n",
       "Emp_ID                                         -0.02  \n",
       "Tenure                                          0.31  \n",
       "Salary                                         -0.05  \n",
       "Average Monthly Business Value                  0.76  \n",
       "Total Business Value                            1.00  "
      ]
     },
     "execution_count": 15,
     "metadata": {},
     "output_type": "execute_result"
    }
   ],
   "source": [
    "top188_matrix = top188_df.corr()\n",
    "top188_matrix\n",
    "# little correlation"
   ]
  },
  {
   "cell_type": "code",
   "execution_count": null,
   "id": "d896595b",
   "metadata": {},
   "outputs": [],
   "source": [
    "# try random samples"
   ]
  }
 ],
 "metadata": {
  "kernelspec": {
   "display_name": "Python [conda env:PythonData] *",
   "language": "python",
   "name": "conda-env-PythonData-py"
  },
  "language_info": {
   "codemirror_mode": {
    "name": "ipython",
    "version": 3
   },
   "file_extension": ".py",
   "mimetype": "text/x-python",
   "name": "python",
   "nbconvert_exporter": "python",
   "pygments_lexer": "ipython3",
   "version": "3.7.7"
  }
 },
 "nbformat": 4,
 "nbformat_minor": 5
}
