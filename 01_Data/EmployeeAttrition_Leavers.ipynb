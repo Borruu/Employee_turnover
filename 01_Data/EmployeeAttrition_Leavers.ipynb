{
 "cells": [
  {
   "cell_type": "code",
   "execution_count": 1,
   "id": "cd2a541a",
   "metadata": {},
   "outputs": [],
   "source": [
    "import pandas as pd\n",
    "import matplotlib.pyplot as plt\n",
    "import numpy as np\n",
    "import datetime\n",
    "import scipy.stats as st"
   ]
  },
  {
   "cell_type": "code",
   "execution_count": 2,
   "id": "13145d1a",
   "metadata": {},
   "outputs": [
    {
     "data": {
      "text/html": [
       "<div>\n",
       "<style scoped>\n",
       "    .dataframe tbody tr th:only-of-type {\n",
       "        vertical-align: middle;\n",
       "    }\n",
       "\n",
       "    .dataframe tbody tr th {\n",
       "        vertical-align: top;\n",
       "    }\n",
       "\n",
       "    .dataframe thead th {\n",
       "        text-align: right;\n",
       "    }\n",
       "</style>\n",
       "<table border=\"1\" class=\"dataframe\">\n",
       "  <thead>\n",
       "    <tr style=\"text-align: right;\">\n",
       "      <th></th>\n",
       "      <th>MMM-YY</th>\n",
       "      <th>Emp_ID</th>\n",
       "      <th>Age</th>\n",
       "      <th>Gender</th>\n",
       "      <th>City</th>\n",
       "      <th>Education_Level</th>\n",
       "      <th>Salary</th>\n",
       "      <th>Dateofjoining</th>\n",
       "      <th>LastWorkingDate</th>\n",
       "      <th>Joining Designation</th>\n",
       "      <th>Designation</th>\n",
       "      <th>Total Business Value</th>\n",
       "      <th>Quarterly Rating</th>\n",
       "    </tr>\n",
       "  </thead>\n",
       "  <tbody>\n",
       "    <tr>\n",
       "      <th>0</th>\n",
       "      <td>2016-01-01</td>\n",
       "      <td>1</td>\n",
       "      <td>28</td>\n",
       "      <td>Male</td>\n",
       "      <td>C23</td>\n",
       "      <td>Master</td>\n",
       "      <td>57387</td>\n",
       "      <td>2015-12-24</td>\n",
       "      <td>NaN</td>\n",
       "      <td>1</td>\n",
       "      <td>1</td>\n",
       "      <td>2381060</td>\n",
       "      <td>2</td>\n",
       "    </tr>\n",
       "    <tr>\n",
       "      <th>1</th>\n",
       "      <td>2016-02-01</td>\n",
       "      <td>1</td>\n",
       "      <td>28</td>\n",
       "      <td>Male</td>\n",
       "      <td>C23</td>\n",
       "      <td>Master</td>\n",
       "      <td>57387</td>\n",
       "      <td>2015-12-24</td>\n",
       "      <td>NaN</td>\n",
       "      <td>1</td>\n",
       "      <td>1</td>\n",
       "      <td>-665480</td>\n",
       "      <td>2</td>\n",
       "    </tr>\n",
       "    <tr>\n",
       "      <th>2</th>\n",
       "      <td>2016-03-01</td>\n",
       "      <td>1</td>\n",
       "      <td>28</td>\n",
       "      <td>Male</td>\n",
       "      <td>C23</td>\n",
       "      <td>Master</td>\n",
       "      <td>57387</td>\n",
       "      <td>2015-12-24</td>\n",
       "      <td>2016-03-11</td>\n",
       "      <td>1</td>\n",
       "      <td>1</td>\n",
       "      <td>0</td>\n",
       "      <td>2</td>\n",
       "    </tr>\n",
       "    <tr>\n",
       "      <th>3</th>\n",
       "      <td>2017-11-01</td>\n",
       "      <td>2</td>\n",
       "      <td>31</td>\n",
       "      <td>Male</td>\n",
       "      <td>C7</td>\n",
       "      <td>Master</td>\n",
       "      <td>67016</td>\n",
       "      <td>2017-11-06</td>\n",
       "      <td>NaN</td>\n",
       "      <td>2</td>\n",
       "      <td>2</td>\n",
       "      <td>0</td>\n",
       "      <td>1</td>\n",
       "    </tr>\n",
       "    <tr>\n",
       "      <th>4</th>\n",
       "      <td>2017-12-01</td>\n",
       "      <td>2</td>\n",
       "      <td>31</td>\n",
       "      <td>Male</td>\n",
       "      <td>C7</td>\n",
       "      <td>Master</td>\n",
       "      <td>67016</td>\n",
       "      <td>2017-11-06</td>\n",
       "      <td>NaN</td>\n",
       "      <td>2</td>\n",
       "      <td>2</td>\n",
       "      <td>0</td>\n",
       "      <td>1</td>\n",
       "    </tr>\n",
       "  </tbody>\n",
       "</table>\n",
       "</div>"
      ],
      "text/plain": [
       "       MMM-YY  Emp_ID  Age Gender City Education_Level  Salary Dateofjoining  \\\n",
       "0  2016-01-01       1   28   Male  C23          Master   57387    2015-12-24   \n",
       "1  2016-02-01       1   28   Male  C23          Master   57387    2015-12-24   \n",
       "2  2016-03-01       1   28   Male  C23          Master   57387    2015-12-24   \n",
       "3  2017-11-01       2   31   Male   C7          Master   67016    2017-11-06   \n",
       "4  2017-12-01       2   31   Male   C7          Master   67016    2017-11-06   \n",
       "\n",
       "  LastWorkingDate  Joining Designation  Designation  Total Business Value  \\\n",
       "0             NaN                    1            1               2381060   \n",
       "1             NaN                    1            1               -665480   \n",
       "2      2016-03-11                    1            1                     0   \n",
       "3             NaN                    2            2                     0   \n",
       "4             NaN                    2            2                     0   \n",
       "\n",
       "   Quarterly Rating  \n",
       "0                 2  \n",
       "1                 2  \n",
       "2                 2  \n",
       "3                 1  \n",
       "4                 1  "
      ]
     },
     "execution_count": 2,
     "metadata": {},
     "output_type": "execute_result"
    }
   ],
   "source": [
    "path = 'EmployeeAttrition.csv'\n",
    "df = pd.read_csv(path)\n",
    "df.head()"
   ]
  },
  {
   "cell_type": "code",
   "execution_count": 9,
   "id": "02a0161f",
   "metadata": {},
   "outputs": [
    {
     "data": {
      "text/html": [
       "<div>\n",
       "<style scoped>\n",
       "    .dataframe tbody tr th:only-of-type {\n",
       "        vertical-align: middle;\n",
       "    }\n",
       "\n",
       "    .dataframe tbody tr th {\n",
       "        vertical-align: top;\n",
       "    }\n",
       "\n",
       "    .dataframe thead th {\n",
       "        text-align: right;\n",
       "    }\n",
       "</style>\n",
       "<table border=\"1\" class=\"dataframe\">\n",
       "  <thead>\n",
       "    <tr style=\"text-align: right;\">\n",
       "      <th></th>\n",
       "      <th>MMM-YY</th>\n",
       "      <th>Emp_ID</th>\n",
       "      <th>Age</th>\n",
       "      <th>Gender</th>\n",
       "      <th>City</th>\n",
       "      <th>Education_Level</th>\n",
       "      <th>Salary</th>\n",
       "      <th>Dateofjoining</th>\n",
       "      <th>LastWorkingDate</th>\n",
       "      <th>Joining Designation</th>\n",
       "      <th>Designation</th>\n",
       "      <th>Total Business Value</th>\n",
       "      <th>Quarterly Rating</th>\n",
       "    </tr>\n",
       "  </thead>\n",
       "  <tbody>\n",
       "    <tr>\n",
       "      <th>0</th>\n",
       "      <td>2016-01-01</td>\n",
       "      <td>1</td>\n",
       "      <td>28</td>\n",
       "      <td>Male</td>\n",
       "      <td>C23</td>\n",
       "      <td>Master</td>\n",
       "      <td>57387</td>\n",
       "      <td>2015-12-24</td>\n",
       "      <td>NaN</td>\n",
       "      <td>1</td>\n",
       "      <td>1</td>\n",
       "      <td>2381060</td>\n",
       "      <td>2</td>\n",
       "    </tr>\n",
       "    <tr>\n",
       "      <th>10</th>\n",
       "      <td>2016-01-01</td>\n",
       "      <td>5</td>\n",
       "      <td>29</td>\n",
       "      <td>Male</td>\n",
       "      <td>C9</td>\n",
       "      <td>College</td>\n",
       "      <td>46368</td>\n",
       "      <td>2016-01-09</td>\n",
       "      <td>NaN</td>\n",
       "      <td>1</td>\n",
       "      <td>1</td>\n",
       "      <td>0</td>\n",
       "      <td>1</td>\n",
       "    </tr>\n",
       "    <tr>\n",
       "      <th>28</th>\n",
       "      <td>2016-01-01</td>\n",
       "      <td>13</td>\n",
       "      <td>29</td>\n",
       "      <td>Male</td>\n",
       "      <td>C19</td>\n",
       "      <td>Master</td>\n",
       "      <td>119227</td>\n",
       "      <td>2012-05-28</td>\n",
       "      <td>NaN</td>\n",
       "      <td>1</td>\n",
       "      <td>4</td>\n",
       "      <td>250000</td>\n",
       "      <td>1</td>\n",
       "    </tr>\n",
       "    <tr>\n",
       "      <th>54</th>\n",
       "      <td>2016-01-01</td>\n",
       "      <td>16</td>\n",
       "      <td>30</td>\n",
       "      <td>Female</td>\n",
       "      <td>C23</td>\n",
       "      <td>College</td>\n",
       "      <td>52963</td>\n",
       "      <td>2015-11-30</td>\n",
       "      <td>NaN</td>\n",
       "      <td>2</td>\n",
       "      <td>2</td>\n",
       "      <td>346800</td>\n",
       "      <td>1</td>\n",
       "    </tr>\n",
       "    <tr>\n",
       "      <th>56</th>\n",
       "      <td>2016-01-01</td>\n",
       "      <td>17</td>\n",
       "      <td>42</td>\n",
       "      <td>Male</td>\n",
       "      <td>C20</td>\n",
       "      <td>Master</td>\n",
       "      <td>51099</td>\n",
       "      <td>2015-03-06</td>\n",
       "      <td>NaN</td>\n",
       "      <td>1</td>\n",
       "      <td>1</td>\n",
       "      <td>100000</td>\n",
       "      <td>2</td>\n",
       "    </tr>\n",
       "  </tbody>\n",
       "</table>\n",
       "</div>"
      ],
      "text/plain": [
       "        MMM-YY  Emp_ID  Age  Gender City Education_Level  Salary  \\\n",
       "0   2016-01-01       1   28    Male  C23          Master   57387   \n",
       "10  2016-01-01       5   29    Male   C9         College   46368   \n",
       "28  2016-01-01      13   29    Male  C19          Master  119227   \n",
       "54  2016-01-01      16   30  Female  C23         College   52963   \n",
       "56  2016-01-01      17   42    Male  C20          Master   51099   \n",
       "\n",
       "   Dateofjoining LastWorkingDate  Joining Designation  Designation  \\\n",
       "0     2015-12-24             NaN                    1            1   \n",
       "10    2016-01-09             NaN                    1            1   \n",
       "28    2012-05-28             NaN                    1            4   \n",
       "54    2015-11-30             NaN                    2            2   \n",
       "56    2015-03-06             NaN                    1            1   \n",
       "\n",
       "    Total Business Value  Quarterly Rating  \n",
       "0                2381060                 2  \n",
       "10                     0                 1  \n",
       "28                250000                 1  \n",
       "54                346800                 1  \n",
       "56                100000                 2  "
      ]
     },
     "execution_count": 9,
     "metadata": {},
     "output_type": "execute_result"
    }
   ],
   "source": [
    "# plot histogram of designationcounts at specific times - get shape of the company\n",
    "\n",
    "Jan16_df = df.loc[df['MMM-YY']=='2016-01-01',:]\n",
    "Jan16_df.head()"
   ]
  },
  {
   "cell_type": "code",
   "execution_count": 10,
   "id": "4d4e6e1b",
   "metadata": {},
   "outputs": [
    {
     "data": {
      "image/png": "[encoded data removed]",
      "text/plain": [
       "<Figure size 432x288 with 1 Axes>"
      ]
     },
     "metadata": {
      "needs_background": "light"
     },
     "output_type": "display_data"
    }
   ],
   "source": [
    "# plot shape of company Jan 2016\n",
    "\n",
    "x=[1,2,3,4,5]\n",
    "y= Jan16_df['Designation'].value_counts()\n",
    "plt.bar(x,y)\n",
    "plt.show()"
   ]
  },
  {
   "cell_type": "code",
   "execution_count": 12,
   "id": "fecb885e",
   "metadata": {},
   "outputs": [
    {
     "data": {
      "image/png": "[encoded data removed]",
      "text/plain": [
       "<Figure size 432x288 with 1 Axes>"
      ]
     },
     "metadata": {
      "needs_background": "light"
     },
     "output_type": "display_data"
    }
   ],
   "source": [
    "# plot shape of company Mar 2016\n",
    "Mar16_df = df.loc[df['MMM-YY']=='2016-03-01',:]\n",
    "# Mar16_df.head()\n",
    "x=[1,2,3,4,5]\n",
    "y= Mar16_df['Designation'].value_counts()\n",
    "plt.bar(x,y)\n",
    "plt.show()"
   ]
  },
  {
   "cell_type": "code",
   "execution_count": 16,
   "id": "a82d149a",
   "metadata": {},
   "outputs": [
    {
     "data": {
      "image/png": "[encoded data removed]",
      "text/plain": [
       "<Figure size 432x288 with 1 Axes>"
      ]
     },
     "metadata": {
      "needs_background": "light"
     },
     "output_type": "display_data"
    }
   ],
   "source": [
    "# plot shape of company July 2016\n",
    "Jul16_df = df.loc[df['MMM-YY']=='2016-07-01',:]\n",
    "# Jul16_df.head()\n",
    "x=[1,2,3,4,5]\n",
    "y= Jul16_df['Designation'].value_counts()\n",
    "plt.bar(x,y)\n",
    "plt.show()"
   ]
  },
  {
   "cell_type": "code",
   "execution_count": 18,
   "id": "5c6f692b",
   "metadata": {},
   "outputs": [
    {
     "data": {
      "image/png": "[encoded data removed]",
      "text/plain": [
       "<Figure size 432x288 with 1 Axes>"
      ]
     },
     "metadata": {
      "needs_background": "light"
     },
     "output_type": "display_data"
    }
   ],
   "source": [
    "# plot shape of company Nov 2016\n",
    "Nov16_df = df.loc[df['MMM-YY']=='2016-11-01',:]\n",
    "# Nov16_df.head()\n",
    "x=[1,2,3,4,5]\n",
    "y= Nov16_df['Designation'].value_counts()\n",
    "plt.bar(x,y)\n",
    "plt.show()"
   ]
  },
  {
   "cell_type": "code",
   "execution_count": 22,
   "id": "9a8a7cd4",
   "metadata": {},
   "outputs": [
    {
     "data": {
      "image/png": "[encoded data removed]",
      "text/plain": [
       "<Figure size 432x288 with 1 Axes>"
      ]
     },
     "metadata": {
      "needs_background": "light"
     },
     "output_type": "display_data"
    }
   ],
   "source": [
    "# plot shape of company Feb 2017\n",
    "Feb17_df = df.loc[df['MMM-YY']=='2017-02-01',:]\n",
    "# Feb17_df.head()\n",
    "x=[1,2,3,4,5]\n",
    "y= Feb17_df['Designation'].value_counts()\n",
    "plt.bar(x,y)\n",
    "plt.show()"
   ]
  },
  {
   "cell_type": "code",
   "execution_count": 20,
   "id": "b5937839",
   "metadata": {},
   "outputs": [
    {
     "data": {
      "image/png": "[encoded data removed]",
      "text/plain": [
       "<Figure size 432x288 with 1 Axes>"
      ]
     },
     "metadata": {
      "needs_background": "light"
     },
     "output_type": "display_data"
    }
   ],
   "source": [
    "# plot shape of company Dec 2017\n",
    "Dec17_df = df.loc[df['MMM-YY']=='2017-12-01',:]\n",
    "# Dec17_df.head()\n",
    "x=[1,2,3,4,5]\n",
    "y= Dec17_df['Designation'].value_counts()\n",
    "plt.bar(x,y)\n",
    "plt.show()"
   ]
  },
  {
   "cell_type": "code",
   "execution_count": 23,
   "id": "486cf43d",
   "metadata": {},
   "outputs": [],
   "source": [
    "# Findings: 'shape' of company does not change. Get % values for presentation"
   ]
  },
  {
   "cell_type": "code",
   "execution_count": 24,
   "id": "829df64f",
   "metadata": {},
   "outputs": [],
   "source": [
    "# Does the spread of designations leaving match the shape of the company?"
   ]
  },
  {
   "cell_type": "code",
   "execution_count": 25,
   "id": "d18aed64",
   "metadata": {},
   "outputs": [],
   "source": [
    "# show leavers rating at leaving month\n",
    "# same for 6 months prior to leaving if time permits"
   ]
  },
  {
   "cell_type": "code",
   "execution_count": null,
   "id": "c4b924f1",
   "metadata": {},
   "outputs": [],
   "source": [
    "# is there any bias regarding age?\n",
    "# same business value = same salary. "
   ]
  }
 ],
 "metadata": {
  "kernelspec": {
   "display_name": "Python [conda env:PythonData] *",
   "language": "python",
   "name": "conda-env-PythonData-py"
  },
  "language_info": {
   "codemirror_mode": {
    "name": "ipython",
    "version": 3
   },
   "file_extension": ".py",
   "mimetype": "text/x-python",
   "name": "python",
   "nbconvert_exporter": "python",
   "pygments_lexer": "ipython3",
   "version": "3.7.7"
  }
 },
 "nbformat": 4,
 "nbformat_minor": 5
}
